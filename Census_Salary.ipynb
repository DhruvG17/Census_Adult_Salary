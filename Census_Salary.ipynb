{
  "nbformat": 4,
  "nbformat_minor": 0,
  "metadata": {
    "colab": {
      "name": "Census_Salary.ipynb",
      "provenance": [],
      "toc_visible": true,
      "authorship_tag": "ABX9TyN5sJRKZ6s3Bezxtnf+SnPX",
      "include_colab_link": true
    },
    "kernelspec": {
      "name": "python3",
      "display_name": "Python 3"
    }
  },
  "cells": [
    {
      "cell_type": "markdown",
      "metadata": {
        "id": "view-in-github",
        "colab_type": "text"
      },
      "source": [
        "<a href=\"https://colab.research.google.com/github/DhruvG17/Census_Adult_Salary/blob/main/Census_Salary.ipynb\" target=\"_parent\"><img src=\"https://colab.research.google.com/assets/colab-badge.svg\" alt=\"Open In Colab\"/></a>"
      ]
    },
    {
      "cell_type": "markdown",
      "metadata": {
        "id": "A1H7S7xxgQwe"
      },
      "source": [
        "## Import the main libraries"
      ]
    },
    {
      "cell_type": "code",
      "metadata": {
        "id": "bNFTh1MeNA5Q"
      },
      "source": [
        "import pandas as pd\r\n",
        "import numpy as np"
      ],
      "execution_count": 78,
      "outputs": []
    },
    {
      "cell_type": "markdown",
      "metadata": {
        "id": "zVfW12HPga1i"
      },
      "source": [
        "## Load in data"
      ]
    },
    {
      "cell_type": "code",
      "metadata": {
        "id": "_kFdz4W0UIiF"
      },
      "source": [
        "df = pd.read_csv('Adult_Census_Income.csv')"
      ],
      "execution_count": 79,
      "outputs": []
    },
    {
      "cell_type": "markdown",
      "metadata": {
        "id": "V1uiizmSgck-"
      },
      "source": [
        "## Data Preprocessing"
      ]
    },
    {
      "cell_type": "code",
      "metadata": {
        "colab": {
          "base_uri": "https://localhost:8080/",
          "height": 359
        },
        "id": "8Mma4RnVUO-Z",
        "outputId": "15a08574-e694-4ce9-f68d-dcabe3da9e3a"
      },
      "source": [
        "df.head(10) # view the first 10 items in the dataframe"
      ],
      "execution_count": 80,
      "outputs": [
        {
          "output_type": "execute_result",
          "data": {
            "text/html": [
              "<div>\n",
              "<style scoped>\n",
              "    .dataframe tbody tr th:only-of-type {\n",
              "        vertical-align: middle;\n",
              "    }\n",
              "\n",
              "    .dataframe tbody tr th {\n",
              "        vertical-align: top;\n",
              "    }\n",
              "\n",
              "    .dataframe thead th {\n",
              "        text-align: right;\n",
              "    }\n",
              "</style>\n",
              "<table border=\"1\" class=\"dataframe\">\n",
              "  <thead>\n",
              "    <tr style=\"text-align: right;\">\n",
              "      <th></th>\n",
              "      <th>age</th>\n",
              "      <th>workclass</th>\n",
              "      <th>fnlwgt</th>\n",
              "      <th>education</th>\n",
              "      <th>education.num</th>\n",
              "      <th>marital.status</th>\n",
              "      <th>occupation</th>\n",
              "      <th>relationship</th>\n",
              "      <th>race</th>\n",
              "      <th>sex</th>\n",
              "      <th>capital.gain</th>\n",
              "      <th>capital.loss</th>\n",
              "      <th>hours.per.week</th>\n",
              "      <th>native.country</th>\n",
              "      <th>income</th>\n",
              "    </tr>\n",
              "  </thead>\n",
              "  <tbody>\n",
              "    <tr>\n",
              "      <th>0</th>\n",
              "      <td>90</td>\n",
              "      <td>?</td>\n",
              "      <td>77053</td>\n",
              "      <td>HS-grad</td>\n",
              "      <td>9</td>\n",
              "      <td>Widowed</td>\n",
              "      <td>?</td>\n",
              "      <td>Not-in-family</td>\n",
              "      <td>White</td>\n",
              "      <td>Female</td>\n",
              "      <td>0</td>\n",
              "      <td>4356</td>\n",
              "      <td>40</td>\n",
              "      <td>United-States</td>\n",
              "      <td>&lt;=50K</td>\n",
              "    </tr>\n",
              "    <tr>\n",
              "      <th>1</th>\n",
              "      <td>82</td>\n",
              "      <td>Private</td>\n",
              "      <td>132870</td>\n",
              "      <td>HS-grad</td>\n",
              "      <td>9</td>\n",
              "      <td>Widowed</td>\n",
              "      <td>Exec-managerial</td>\n",
              "      <td>Not-in-family</td>\n",
              "      <td>White</td>\n",
              "      <td>Female</td>\n",
              "      <td>0</td>\n",
              "      <td>4356</td>\n",
              "      <td>18</td>\n",
              "      <td>United-States</td>\n",
              "      <td>&lt;=50K</td>\n",
              "    </tr>\n",
              "    <tr>\n",
              "      <th>2</th>\n",
              "      <td>66</td>\n",
              "      <td>?</td>\n",
              "      <td>186061</td>\n",
              "      <td>Some-college</td>\n",
              "      <td>10</td>\n",
              "      <td>Widowed</td>\n",
              "      <td>?</td>\n",
              "      <td>Unmarried</td>\n",
              "      <td>Black</td>\n",
              "      <td>Female</td>\n",
              "      <td>0</td>\n",
              "      <td>4356</td>\n",
              "      <td>40</td>\n",
              "      <td>United-States</td>\n",
              "      <td>&lt;=50K</td>\n",
              "    </tr>\n",
              "    <tr>\n",
              "      <th>3</th>\n",
              "      <td>54</td>\n",
              "      <td>Private</td>\n",
              "      <td>140359</td>\n",
              "      <td>7th-8th</td>\n",
              "      <td>4</td>\n",
              "      <td>Divorced</td>\n",
              "      <td>Machine-op-inspct</td>\n",
              "      <td>Unmarried</td>\n",
              "      <td>White</td>\n",
              "      <td>Female</td>\n",
              "      <td>0</td>\n",
              "      <td>3900</td>\n",
              "      <td>40</td>\n",
              "      <td>United-States</td>\n",
              "      <td>&lt;=50K</td>\n",
              "    </tr>\n",
              "    <tr>\n",
              "      <th>4</th>\n",
              "      <td>41</td>\n",
              "      <td>Private</td>\n",
              "      <td>264663</td>\n",
              "      <td>Some-college</td>\n",
              "      <td>10</td>\n",
              "      <td>Separated</td>\n",
              "      <td>Prof-specialty</td>\n",
              "      <td>Own-child</td>\n",
              "      <td>White</td>\n",
              "      <td>Female</td>\n",
              "      <td>0</td>\n",
              "      <td>3900</td>\n",
              "      <td>40</td>\n",
              "      <td>United-States</td>\n",
              "      <td>&lt;=50K</td>\n",
              "    </tr>\n",
              "    <tr>\n",
              "      <th>5</th>\n",
              "      <td>34</td>\n",
              "      <td>Private</td>\n",
              "      <td>216864</td>\n",
              "      <td>HS-grad</td>\n",
              "      <td>9</td>\n",
              "      <td>Divorced</td>\n",
              "      <td>Other-service</td>\n",
              "      <td>Unmarried</td>\n",
              "      <td>White</td>\n",
              "      <td>Female</td>\n",
              "      <td>0</td>\n",
              "      <td>3770</td>\n",
              "      <td>45</td>\n",
              "      <td>United-States</td>\n",
              "      <td>&lt;=50K</td>\n",
              "    </tr>\n",
              "    <tr>\n",
              "      <th>6</th>\n",
              "      <td>38</td>\n",
              "      <td>Private</td>\n",
              "      <td>150601</td>\n",
              "      <td>10th</td>\n",
              "      <td>6</td>\n",
              "      <td>Separated</td>\n",
              "      <td>Adm-clerical</td>\n",
              "      <td>Unmarried</td>\n",
              "      <td>White</td>\n",
              "      <td>Male</td>\n",
              "      <td>0</td>\n",
              "      <td>3770</td>\n",
              "      <td>40</td>\n",
              "      <td>United-States</td>\n",
              "      <td>&lt;=50K</td>\n",
              "    </tr>\n",
              "    <tr>\n",
              "      <th>7</th>\n",
              "      <td>74</td>\n",
              "      <td>State-gov</td>\n",
              "      <td>88638</td>\n",
              "      <td>Doctorate</td>\n",
              "      <td>16</td>\n",
              "      <td>Never-married</td>\n",
              "      <td>Prof-specialty</td>\n",
              "      <td>Other-relative</td>\n",
              "      <td>White</td>\n",
              "      <td>Female</td>\n",
              "      <td>0</td>\n",
              "      <td>3683</td>\n",
              "      <td>20</td>\n",
              "      <td>United-States</td>\n",
              "      <td>&gt;50K</td>\n",
              "    </tr>\n",
              "    <tr>\n",
              "      <th>8</th>\n",
              "      <td>68</td>\n",
              "      <td>Federal-gov</td>\n",
              "      <td>422013</td>\n",
              "      <td>HS-grad</td>\n",
              "      <td>9</td>\n",
              "      <td>Divorced</td>\n",
              "      <td>Prof-specialty</td>\n",
              "      <td>Not-in-family</td>\n",
              "      <td>White</td>\n",
              "      <td>Female</td>\n",
              "      <td>0</td>\n",
              "      <td>3683</td>\n",
              "      <td>40</td>\n",
              "      <td>United-States</td>\n",
              "      <td>&lt;=50K</td>\n",
              "    </tr>\n",
              "    <tr>\n",
              "      <th>9</th>\n",
              "      <td>41</td>\n",
              "      <td>Private</td>\n",
              "      <td>70037</td>\n",
              "      <td>Some-college</td>\n",
              "      <td>10</td>\n",
              "      <td>Never-married</td>\n",
              "      <td>Craft-repair</td>\n",
              "      <td>Unmarried</td>\n",
              "      <td>White</td>\n",
              "      <td>Male</td>\n",
              "      <td>0</td>\n",
              "      <td>3004</td>\n",
              "      <td>60</td>\n",
              "      <td>?</td>\n",
              "      <td>&gt;50K</td>\n",
              "    </tr>\n",
              "  </tbody>\n",
              "</table>\n",
              "</div>"
            ],
            "text/plain": [
              "   age    workclass  fnlwgt  ... hours.per.week  native.country income\n",
              "0   90            ?   77053  ...             40   United-States  <=50K\n",
              "1   82      Private  132870  ...             18   United-States  <=50K\n",
              "2   66            ?  186061  ...             40   United-States  <=50K\n",
              "3   54      Private  140359  ...             40   United-States  <=50K\n",
              "4   41      Private  264663  ...             40   United-States  <=50K\n",
              "5   34      Private  216864  ...             45   United-States  <=50K\n",
              "6   38      Private  150601  ...             40   United-States  <=50K\n",
              "7   74    State-gov   88638  ...             20   United-States   >50K\n",
              "8   68  Federal-gov  422013  ...             40   United-States  <=50K\n",
              "9   41      Private   70037  ...             60               ?   >50K\n",
              "\n",
              "[10 rows x 15 columns]"
            ]
          },
          "metadata": {
            "tags": []
          },
          "execution_count": 80
        }
      ]
    },
    {
      "cell_type": "code",
      "metadata": {
        "colab": {
          "base_uri": "https://localhost:8080/"
        },
        "id": "5BMfWdAyhgSV",
        "outputId": "388a93a7-4d23-4754-9639-1ab48a790c7a"
      },
      "source": [
        "print(df.isnull().sum()) # check if there are any null values in the data frame"
      ],
      "execution_count": 81,
      "outputs": [
        {
          "output_type": "stream",
          "text": [
            "age               0\n",
            "workclass         0\n",
            "fnlwgt            0\n",
            "education         0\n",
            "education.num     0\n",
            "marital.status    0\n",
            "occupation        0\n",
            "relationship      0\n",
            "race              0\n",
            "sex               0\n",
            "capital.gain      0\n",
            "capital.loss      0\n",
            "hours.per.week    0\n",
            "native.country    0\n",
            "income            0\n",
            "dtype: int64\n"
          ],
          "name": "stdout"
        }
      ]
    },
    {
      "cell_type": "code",
      "metadata": {
        "colab": {
          "base_uri": "https://localhost:8080/",
          "height": 359
        },
        "id": "hCBbhFeBUo21",
        "outputId": "bdbf6511-c4e0-476a-90ea-fd6bc0289c15"
      },
      "source": [
        "df['income'] = df['income'].apply(lambda x: x.replace('<50K', '0').replace('<=50K', '0').replace('>50K', '1').replace('=>50K', '1')) # make the income column a 0 and 1 classification column\r\n",
        "df['sex'] = df['sex'].apply(lambda x: x.replace('Female', '1').replace('Male', '0')) # simplify the sex column \r\n",
        "\r\n",
        "df.head(10)"
      ],
      "execution_count": 82,
      "outputs": [
        {
          "output_type": "execute_result",
          "data": {
            "text/html": [
              "<div>\n",
              "<style scoped>\n",
              "    .dataframe tbody tr th:only-of-type {\n",
              "        vertical-align: middle;\n",
              "    }\n",
              "\n",
              "    .dataframe tbody tr th {\n",
              "        vertical-align: top;\n",
              "    }\n",
              "\n",
              "    .dataframe thead th {\n",
              "        text-align: right;\n",
              "    }\n",
              "</style>\n",
              "<table border=\"1\" class=\"dataframe\">\n",
              "  <thead>\n",
              "    <tr style=\"text-align: right;\">\n",
              "      <th></th>\n",
              "      <th>age</th>\n",
              "      <th>workclass</th>\n",
              "      <th>fnlwgt</th>\n",
              "      <th>education</th>\n",
              "      <th>education.num</th>\n",
              "      <th>marital.status</th>\n",
              "      <th>occupation</th>\n",
              "      <th>relationship</th>\n",
              "      <th>race</th>\n",
              "      <th>sex</th>\n",
              "      <th>capital.gain</th>\n",
              "      <th>capital.loss</th>\n",
              "      <th>hours.per.week</th>\n",
              "      <th>native.country</th>\n",
              "      <th>income</th>\n",
              "    </tr>\n",
              "  </thead>\n",
              "  <tbody>\n",
              "    <tr>\n",
              "      <th>0</th>\n",
              "      <td>90</td>\n",
              "      <td>?</td>\n",
              "      <td>77053</td>\n",
              "      <td>HS-grad</td>\n",
              "      <td>9</td>\n",
              "      <td>Widowed</td>\n",
              "      <td>?</td>\n",
              "      <td>Not-in-family</td>\n",
              "      <td>White</td>\n",
              "      <td>1</td>\n",
              "      <td>0</td>\n",
              "      <td>4356</td>\n",
              "      <td>40</td>\n",
              "      <td>United-States</td>\n",
              "      <td>0</td>\n",
              "    </tr>\n",
              "    <tr>\n",
              "      <th>1</th>\n",
              "      <td>82</td>\n",
              "      <td>Private</td>\n",
              "      <td>132870</td>\n",
              "      <td>HS-grad</td>\n",
              "      <td>9</td>\n",
              "      <td>Widowed</td>\n",
              "      <td>Exec-managerial</td>\n",
              "      <td>Not-in-family</td>\n",
              "      <td>White</td>\n",
              "      <td>1</td>\n",
              "      <td>0</td>\n",
              "      <td>4356</td>\n",
              "      <td>18</td>\n",
              "      <td>United-States</td>\n",
              "      <td>0</td>\n",
              "    </tr>\n",
              "    <tr>\n",
              "      <th>2</th>\n",
              "      <td>66</td>\n",
              "      <td>?</td>\n",
              "      <td>186061</td>\n",
              "      <td>Some-college</td>\n",
              "      <td>10</td>\n",
              "      <td>Widowed</td>\n",
              "      <td>?</td>\n",
              "      <td>Unmarried</td>\n",
              "      <td>Black</td>\n",
              "      <td>1</td>\n",
              "      <td>0</td>\n",
              "      <td>4356</td>\n",
              "      <td>40</td>\n",
              "      <td>United-States</td>\n",
              "      <td>0</td>\n",
              "    </tr>\n",
              "    <tr>\n",
              "      <th>3</th>\n",
              "      <td>54</td>\n",
              "      <td>Private</td>\n",
              "      <td>140359</td>\n",
              "      <td>7th-8th</td>\n",
              "      <td>4</td>\n",
              "      <td>Divorced</td>\n",
              "      <td>Machine-op-inspct</td>\n",
              "      <td>Unmarried</td>\n",
              "      <td>White</td>\n",
              "      <td>1</td>\n",
              "      <td>0</td>\n",
              "      <td>3900</td>\n",
              "      <td>40</td>\n",
              "      <td>United-States</td>\n",
              "      <td>0</td>\n",
              "    </tr>\n",
              "    <tr>\n",
              "      <th>4</th>\n",
              "      <td>41</td>\n",
              "      <td>Private</td>\n",
              "      <td>264663</td>\n",
              "      <td>Some-college</td>\n",
              "      <td>10</td>\n",
              "      <td>Separated</td>\n",
              "      <td>Prof-specialty</td>\n",
              "      <td>Own-child</td>\n",
              "      <td>White</td>\n",
              "      <td>1</td>\n",
              "      <td>0</td>\n",
              "      <td>3900</td>\n",
              "      <td>40</td>\n",
              "      <td>United-States</td>\n",
              "      <td>0</td>\n",
              "    </tr>\n",
              "    <tr>\n",
              "      <th>5</th>\n",
              "      <td>34</td>\n",
              "      <td>Private</td>\n",
              "      <td>216864</td>\n",
              "      <td>HS-grad</td>\n",
              "      <td>9</td>\n",
              "      <td>Divorced</td>\n",
              "      <td>Other-service</td>\n",
              "      <td>Unmarried</td>\n",
              "      <td>White</td>\n",
              "      <td>1</td>\n",
              "      <td>0</td>\n",
              "      <td>3770</td>\n",
              "      <td>45</td>\n",
              "      <td>United-States</td>\n",
              "      <td>0</td>\n",
              "    </tr>\n",
              "    <tr>\n",
              "      <th>6</th>\n",
              "      <td>38</td>\n",
              "      <td>Private</td>\n",
              "      <td>150601</td>\n",
              "      <td>10th</td>\n",
              "      <td>6</td>\n",
              "      <td>Separated</td>\n",
              "      <td>Adm-clerical</td>\n",
              "      <td>Unmarried</td>\n",
              "      <td>White</td>\n",
              "      <td>0</td>\n",
              "      <td>0</td>\n",
              "      <td>3770</td>\n",
              "      <td>40</td>\n",
              "      <td>United-States</td>\n",
              "      <td>0</td>\n",
              "    </tr>\n",
              "    <tr>\n",
              "      <th>7</th>\n",
              "      <td>74</td>\n",
              "      <td>State-gov</td>\n",
              "      <td>88638</td>\n",
              "      <td>Doctorate</td>\n",
              "      <td>16</td>\n",
              "      <td>Never-married</td>\n",
              "      <td>Prof-specialty</td>\n",
              "      <td>Other-relative</td>\n",
              "      <td>White</td>\n",
              "      <td>1</td>\n",
              "      <td>0</td>\n",
              "      <td>3683</td>\n",
              "      <td>20</td>\n",
              "      <td>United-States</td>\n",
              "      <td>1</td>\n",
              "    </tr>\n",
              "    <tr>\n",
              "      <th>8</th>\n",
              "      <td>68</td>\n",
              "      <td>Federal-gov</td>\n",
              "      <td>422013</td>\n",
              "      <td>HS-grad</td>\n",
              "      <td>9</td>\n",
              "      <td>Divorced</td>\n",
              "      <td>Prof-specialty</td>\n",
              "      <td>Not-in-family</td>\n",
              "      <td>White</td>\n",
              "      <td>1</td>\n",
              "      <td>0</td>\n",
              "      <td>3683</td>\n",
              "      <td>40</td>\n",
              "      <td>United-States</td>\n",
              "      <td>0</td>\n",
              "    </tr>\n",
              "    <tr>\n",
              "      <th>9</th>\n",
              "      <td>41</td>\n",
              "      <td>Private</td>\n",
              "      <td>70037</td>\n",
              "      <td>Some-college</td>\n",
              "      <td>10</td>\n",
              "      <td>Never-married</td>\n",
              "      <td>Craft-repair</td>\n",
              "      <td>Unmarried</td>\n",
              "      <td>White</td>\n",
              "      <td>0</td>\n",
              "      <td>0</td>\n",
              "      <td>3004</td>\n",
              "      <td>60</td>\n",
              "      <td>?</td>\n",
              "      <td>1</td>\n",
              "    </tr>\n",
              "  </tbody>\n",
              "</table>\n",
              "</div>"
            ],
            "text/plain": [
              "   age    workclass  fnlwgt  ... hours.per.week  native.country income\n",
              "0   90            ?   77053  ...             40   United-States      0\n",
              "1   82      Private  132870  ...             18   United-States      0\n",
              "2   66            ?  186061  ...             40   United-States      0\n",
              "3   54      Private  140359  ...             40   United-States      0\n",
              "4   41      Private  264663  ...             40   United-States      0\n",
              "5   34      Private  216864  ...             45   United-States      0\n",
              "6   38      Private  150601  ...             40   United-States      0\n",
              "7   74    State-gov   88638  ...             20   United-States      1\n",
              "8   68  Federal-gov  422013  ...             40   United-States      0\n",
              "9   41      Private   70037  ...             60               ?      1\n",
              "\n",
              "[10 rows x 15 columns]"
            ]
          },
          "metadata": {
            "tags": []
          },
          "execution_count": 82
        }
      ]
    },
    {
      "cell_type": "code",
      "metadata": {
        "colab": {
          "base_uri": "https://localhost:8080/"
        },
        "id": "-lOLfNh7n5GX",
        "outputId": "8e68c667-71b1-4174-e652-c8c56a97502a"
      },
      "source": [
        "df['income'] = df['income'].astype(int) # change income to an integer \r\n",
        "df['sex'] = df['sex'].astype(int)\r\n",
        "print(df.dtypes) # look at the data types of each column\r\n",
        "print(df.shape) # look at the shape of the data frame"
      ],
      "execution_count": 83,
      "outputs": [
        {
          "output_type": "stream",
          "text": [
            "age                int64\n",
            "workclass         object\n",
            "fnlwgt             int64\n",
            "education         object\n",
            "education.num      int64\n",
            "marital.status    object\n",
            "occupation        object\n",
            "relationship      object\n",
            "race              object\n",
            "sex                int64\n",
            "capital.gain       int64\n",
            "capital.loss       int64\n",
            "hours.per.week     int64\n",
            "native.country    object\n",
            "income             int64\n",
            "dtype: object\n",
            "(32561, 15)\n"
          ],
          "name": "stdout"
        }
      ]
    },
    {
      "cell_type": "code",
      "metadata": {
        "id": "-tteA4Hkn44h"
      },
      "source": [
        "df_num = ['age', 'fnlwgt', 'education.num', 'capital.gain', 'capital.loss', 'hours.per.week', 'sex', 'income'] # list of categorical numeric values\r\n",
        "\r\n",
        "df_cat = ['workclass', 'education', 'marital.status', 'occupation', 'relationship', 'race', 'native.country'] # list of categorical values "
      ],
      "execution_count": 84,
      "outputs": []
    },
    {
      "cell_type": "code",
      "metadata": {
        "colab": {
          "base_uri": "https://localhost:8080/"
        },
        "id": "jAb-bD2CYDvx",
        "outputId": "f9263b6a-e6e5-43ec-c2fe-74b9777db554"
      },
      "source": [
        "# let's look for outliers\r\n",
        "from scipy import stats\r\n",
        "\r\n",
        "z_scores = np.abs(stats.zscore(df[df_num]))\r\n",
        "print(np.where(z_scores > 3)) # we can use the threshold of 3 to find our z scores for our numeric data"
      ],
      "execution_count": 85,
      "outputs": [
        {
          "output_type": "stream",
          "text": [
            "(array([    0,     0,     1, ..., 32528, 32528, 32534]), array([0, 4, 0, ..., 0, 5, 5]))\n"
          ],
          "name": "stdout"
        }
      ]
    },
    {
      "cell_type": "code",
      "metadata": {
        "colab": {
          "base_uri": "https://localhost:8080/"
        },
        "id": "UAphSyjRcTw3",
        "outputId": "702a4acd-4526-4ffd-b953-cf434a1464b6"
      },
      "source": [
        "df_2 = df[(z_scores < 3).all(axis=1)] # remove the rows with outliers (z score >= 3) in them \r\n",
        "df_2.shape # check the shape of the new dataframe without the outliers "
      ],
      "execution_count": 86,
      "outputs": [
        {
          "output_type": "execute_result",
          "data": {
            "text/plain": [
              "(29828, 15)"
            ]
          },
          "metadata": {
            "tags": []
          },
          "execution_count": 86
        }
      ]
    },
    {
      "cell_type": "markdown",
      "metadata": {
        "id": "hgg-BZGmsVmr"
      },
      "source": [
        "##Data Visulization"
      ]
    },
    {
      "cell_type": "code",
      "metadata": {
        "id": "BvOYVGZas1Vy"
      },
      "source": [
        "import seaborn as sns\r\n",
        "import matplotlib.pyplot as plt"
      ],
      "execution_count": 87,
      "outputs": []
    },
    {
      "cell_type": "code",
      "metadata": {
        "colab": {
          "base_uri": "https://localhost:8080/",
          "height": 691
        },
        "id": "OCakqxPcsapj",
        "outputId": "0b2a2c3d-fd31-4af7-a8f0-65e981ae657d"
      },
      "source": [
        "df_2_corr = df_2.corr('pearson')\r\n",
        "\r\n",
        "heatmap = sns.heatmap(df_2_corr, annot=True)\r\n",
        "heatmap.figure.set_size_inches(12,10)\r\n",
        "heatmap.set_title('Correlation between numeric values')"
      ],
      "execution_count": 88,
      "outputs": [
        {
          "output_type": "execute_result",
          "data": {
            "text/plain": [
              "Text(0.5, 1.0, 'Correlation between numeric values')"
            ]
          },
          "metadata": {
            "tags": []
          },
          "execution_count": 88
        },
        {
          "output_type": "display_data",
          "data": {
            "image/png": "[encoded data removed]",
            "text/plain": [
              "<Figure size 864x720 with 2 Axes>"
            ]
          },
          "metadata": {
            "tags": [],
            "needs_background": "light"
          }
        }
      ]
    },
    {
      "cell_type": "code",
      "metadata": {
        "colab": {
          "base_uri": "https://localhost:8080/"
        },
        "id": "UNQir0T3F_uU",
        "outputId": "f664ced8-bbb9-4995-8909-e1500738d699"
      },
      "source": [
        "print('Occupation Unique Counts:','\\n', df_2['occupation'].value_counts().sort_values(ascending=False)) # good variation in the data"
      ],
      "execution_count": 89,
      "outputs": [
        {
          "output_type": "stream",
          "text": [
            "Occupation Unique Counts: \n",
            " Craft-repair         3793\n",
            "Prof-specialty       3669\n",
            "Exec-managerial      3619\n",
            "Adm-clerical         3581\n",
            "Sales                3352\n",
            "Other-service        3086\n",
            "Machine-op-inspct    1873\n",
            "?                    1661\n",
            "Transport-moving     1462\n",
            "Handlers-cleaners    1287\n",
            "Tech-support          856\n",
            "Farming-fishing       855\n",
            "Protective-serv       598\n",
            "Priv-house-serv       128\n",
            "Armed-Forces            8\n",
            "Name: occupation, dtype: int64\n"
          ],
          "name": "stdout"
        }
      ]
    },
    {
      "cell_type": "code",
      "metadata": {
        "colab": {
          "base_uri": "https://localhost:8080/",
          "height": 538
        },
        "id": "CfuObzJTsakY",
        "outputId": "4cf1451b-c531-4df6-fa37-d7abdfc079c3"
      },
      "source": [
        "occ_income = sns.histplot(x='occupation', hue = 'income', data = df_2) \r\n",
        "occ_income.set_xlabel('Occupation')\r\n",
        "occ_income.set_title('Occupation vs Income')\r\n",
        "occ_income.figure.set_size_inches(30,10)"
      ],
      "execution_count": 90,
      "outputs": [
        {
          "output_type": "display_data",
          "data": {
            "image/png": "[encoded data removed]",
            "text/plain": [
              "<Figure size 2160x720 with 1 Axes>"
            ]
          },
          "metadata": {
            "tags": [],
            "needs_background": "light"
          }
        }
      ]
    },
    {
      "cell_type": "code",
      "metadata": {
        "colab": {
          "base_uri": "https://localhost:8080/"
        },
        "id": "gBnijiftuA4O",
        "outputId": "8938aa35-e0ee-4b23-a838-47da7f3cc2a3"
      },
      "source": [
        "print('Workclass Unique Values', '\\n', df_2['workclass'].value_counts().sort_values(ascending=False)) # we can see that the majority of unique values in the workclass column are for 'Private' and then spread out evenly between the rest"
      ],
      "execution_count": 91,
      "outputs": [
        {
          "output_type": "stream",
          "text": [
            "Workclass Unique Values \n",
            " Private             20985\n",
            "Self-emp-not-inc     2213\n",
            "Local-gov            1915\n",
            "?                    1654\n",
            "State-gov            1217\n",
            "Self-emp-inc          938\n",
            "Federal-gov           885\n",
            "Without-pay            14\n",
            "Never-worked            7\n",
            "Name: workclass, dtype: int64\n"
          ],
          "name": "stdout"
        }
      ]
    },
    {
      "cell_type": "code",
      "metadata": {
        "colab": {
          "base_uri": "https://localhost:8080/",
          "height": 621
        },
        "id": "KNIXHsRuqB_d",
        "outputId": "3090db30-1abe-416a-f44c-c42b1c529bd6"
      },
      "source": [
        "wkclass_income = sns.histplot(x='workclass', hue = 'income', data = df_2) \r\n",
        "wkclass_income.set_xlabel('Workclass')\r\n",
        "wkclass_income.set_title('Workclass vs Income')\r\n",
        "wkclass_income.figure.set_size_inches(20,10)"
      ],
      "execution_count": 92,
      "outputs": [
        {
          "output_type": "display_data",
          "data": {
            "image/png": "[encoded data removed]",
            "text/plain": [
              "<Figure size 1440x720 with 1 Axes>"
            ]
          },
          "metadata": {
            "tags": [],
            "needs_background": "light"
          }
        }
      ]
    },
    {
      "cell_type": "code",
      "metadata": {
        "colab": {
          "base_uri": "https://localhost:8080/"
        },
        "id": "brRiN2e7qiCs",
        "outputId": "e3429a66-0623-46ba-c979-18a5dbf5ad7e"
      },
      "source": [
        "print('Relationship Unique Counts:','\\n', df_2['relationship'].value_counts().sort_values(ascending=False)) \r\n",
        "print('')\r\n",
        "print('Marital Status Unique Counts:', '\\n', df_2['marital.status'].value_counts().sort_values(ascending=False)) # This seems to be better distributed than Relationship\r\n",
        "print('')\r\n",
        "print('Race Unique Counts:', '\\n', df_2['race'].value_counts().sort_values(ascending=False)) # not worth putting in our models since there is not much variance"
      ],
      "execution_count": 93,
      "outputs": [
        {
          "output_type": "stream",
          "text": [
            "Relationship Unique Counts: \n",
            " Husband           11761\n",
            "Not-in-family      7636\n",
            "Own-child          4826\n",
            "Unmarried          3271\n",
            "Wife               1421\n",
            "Other-relative      913\n",
            "Name: relationship, dtype: int64\n",
            "\n",
            "Marital Status Unique Counts: \n",
            " Married-civ-spouse       13382\n",
            "Never-married            10059\n",
            "Divorced                  4158\n",
            "Separated                  957\n",
            "Widowed                    880\n",
            "Married-spouse-absent      373\n",
            "Married-AF-spouse           19\n",
            "Name: marital.status, dtype: int64\n",
            "\n",
            "Race Unique Counts: \n",
            " White                 25473\n",
            "Black                  2871\n",
            "Asian-Pac-Islander      942\n",
            "Amer-Indian-Eskimo      295\n",
            "Other                   247\n",
            "Name: race, dtype: int64\n"
          ],
          "name": "stdout"
        }
      ]
    },
    {
      "cell_type": "code",
      "metadata": {
        "colab": {
          "base_uri": "https://localhost:8080/",
          "height": 638
        },
        "id": "vJ0pWsuTiy14",
        "outputId": "8310d110-3503-4ab2-9f4b-c50138bc2863"
      },
      "source": [
        "hist1 = sns.histplot(data=df_2, x='marital.status', hue='income')\r\n",
        "hist1.figure.set_size_inches(15,10)\r\n",
        "hist1.set_title('Marital Status vs. Income')\r\n",
        "hist1.set_xlabel('Marital Status')"
      ],
      "execution_count": 94,
      "outputs": [
        {
          "output_type": "execute_result",
          "data": {
            "text/plain": [
              "Text(0.5, 0, 'Marital Status')"
            ]
          },
          "metadata": {
            "tags": []
          },
          "execution_count": 94
        },
        {
          "output_type": "display_data",
          "data": {
            "image/png": "[encoded data removed]",
            "text/plain": [
              "<Figure size 1080x720 with 1 Axes>"
            ]
          },
          "metadata": {
            "tags": [],
            "needs_background": "light"
          }
        }
      ]
    },
    {
      "cell_type": "code",
      "metadata": {
        "colab": {
          "base_uri": "https://localhost:8080/"
        },
        "id": "wFnlmGNk53yq",
        "outputId": "523fec84-c196-4d8d-b70c-8721cb8f7055"
      },
      "source": [
        "print('Education Unique Counts:','\\n', df_2['education'].value_counts().sort_values(ascending=False)) # very good variance and we will use 'education.num' instead of this column (same info)\r\n",
        "print('')\r\n",
        "print('Native Country Unique Counts', '\\n', df_2['native.country'].value_counts().sort_values(ascending=False)) # bad variation, so not worth looking into much"
      ],
      "execution_count": 95,
      "outputs": [
        {
          "output_type": "stream",
          "text": [
            "Education Unique Counts: \n",
            " HS-grad         9807\n",
            "Some-college    6836\n",
            "Bachelors       4856\n",
            "Masters         1495\n",
            "Assoc-voc       1296\n",
            "11th            1120\n",
            "Assoc-acdm       987\n",
            "10th             868\n",
            "7th-8th          590\n",
            "9th              491\n",
            "Prof-school      432\n",
            "12th             411\n",
            "Doctorate        329\n",
            "5th-6th          310\n",
            "Name: education, dtype: int64\n",
            "\n",
            "Native Country Unique Counts \n",
            " United-States                 26839\n",
            "Mexico                          534\n",
            "?                               515\n",
            "Philippines                     179\n",
            "Germany                         130\n",
            "Canada                          110\n",
            "Puerto-Rico                     104\n",
            "India                            88\n",
            "Cuba                             87\n",
            "El-Salvador                      84\n",
            "England                          82\n",
            "Jamaica                          81\n",
            "South                            70\n",
            "China                            65\n",
            "Italy                            65\n",
            "Vietnam                          61\n",
            "Dominican-Republic               59\n",
            "Poland                           57\n",
            "Columbia                         56\n",
            "Japan                            55\n",
            "Guatemala                        50\n",
            "Taiwan                           44\n",
            "Haiti                            41\n",
            "Iran                             39\n",
            "Portugal                         29\n",
            "France                           28\n",
            "Nicaragua                        28\n",
            "Peru                             28\n",
            "Ecuador                          26\n",
            "Greece                           25\n",
            "Ireland                          23\n",
            "Hong                             18\n",
            "Laos                             17\n",
            "Thailand                         16\n",
            "Trinadad&Tobago                  16\n",
            "Yugoslavia                       15\n",
            "Cambodia                         15\n",
            "Outlying-US(Guam-USVI-etc)       14\n",
            "Scotland                         12\n",
            "Hungary                          12\n",
            "Honduras                         11\n",
            "Name: native.country, dtype: int64\n"
          ],
          "name": "stdout"
        }
      ]
    },
    {
      "cell_type": "code",
      "metadata": {
        "id": "MAnI3UaecTrC",
        "colab": {
          "base_uri": "https://localhost:8080/",
          "height": 638
        },
        "outputId": "85234b4e-c5ea-402c-e397-77b695c89c51"
      },
      "source": [
        "edu_hist = sns.histplot(data=df_2, x='education', hue='income')\r\n",
        "edu_hist.figure.set_size_inches(20,10)\r\n",
        "edu_hist.set_xlabel('Education')\r\n",
        "edu_hist.set_title('Education vs. Income')"
      ],
      "execution_count": 96,
      "outputs": [
        {
          "output_type": "execute_result",
          "data": {
            "text/plain": [
              "Text(0.5, 1.0, 'Education vs. Income')"
            ]
          },
          "metadata": {
            "tags": []
          },
          "execution_count": 96
        },
        {
          "output_type": "display_data",
          "data": {
            "image/png": "[encoded data removed]",
            "text/plain": [
              "<Figure size 1440x720 with 1 Axes>"
            ]
          },
          "metadata": {
            "tags": [],
            "needs_background": "light"
          }
        }
      ]
    },
    {
      "cell_type": "markdown",
      "metadata": {
        "id": "1Vnh-ltL796e"
      },
      "source": [
        "The features we will use for the algorithms are ['hours.per.week', 'capital.gain', 'education.num', 'capital.gain', 'age', 'sex', 'occupation', and 'marital.status']"
      ]
    },
    {
      "cell_type": "markdown",
      "metadata": {
        "id": "fk7tNH_F72SR"
      },
      "source": [
        "## Encoding Categorical Values"
      ]
    },
    {
      "cell_type": "code",
      "metadata": {
        "colab": {
          "base_uri": "https://localhost:8080/",
          "height": 0
        },
        "id": "9ypjCvF6D9vG",
        "outputId": "5082b3a5-83cf-4d00-fc6c-e85536371ebf"
      },
      "source": [
        "# create a new categorical value list with the column names we will be using \r\n",
        "df_cat2 = ['marital.status', 'occupation']\r\n",
        "\r\n",
        "# trim the data frame so we only have the necessary columns\r\n",
        "df_3 = df_2.drop(columns=['workclass', 'education', 'relationship', 'race', 'capital.loss', 'native.country'])\r\n",
        "df_3.head(5)"
      ],
      "execution_count": 97,
      "outputs": [
        {
          "output_type": "execute_result",
          "data": {
            "text/html": [
              "<div>\n",
              "<style scoped>\n",
              "    .dataframe tbody tr th:only-of-type {\n",
              "        vertical-align: middle;\n",
              "    }\n",
              "\n",
              "    .dataframe tbody tr th {\n",
              "        vertical-align: top;\n",
              "    }\n",
              "\n",
              "    .dataframe thead th {\n",
              "        text-align: right;\n",
              "    }\n",
              "</style>\n",
              "<table border=\"1\" class=\"dataframe\">\n",
              "  <thead>\n",
              "    <tr style=\"text-align: right;\">\n",
              "      <th></th>\n",
              "      <th>age</th>\n",
              "      <th>fnlwgt</th>\n",
              "      <th>education.num</th>\n",
              "      <th>marital.status</th>\n",
              "      <th>occupation</th>\n",
              "      <th>sex</th>\n",
              "      <th>capital.gain</th>\n",
              "      <th>hours.per.week</th>\n",
              "      <th>income</th>\n",
              "    </tr>\n",
              "  </thead>\n",
              "  <tbody>\n",
              "    <tr>\n",
              "      <th>1470</th>\n",
              "      <td>62</td>\n",
              "      <td>159908</td>\n",
              "      <td>13</td>\n",
              "      <td>Married-civ-spouse</td>\n",
              "      <td>Adm-clerical</td>\n",
              "      <td>1</td>\n",
              "      <td>0</td>\n",
              "      <td>38</td>\n",
              "      <td>0</td>\n",
              "    </tr>\n",
              "    <tr>\n",
              "      <th>1471</th>\n",
              "      <td>72</td>\n",
              "      <td>144515</td>\n",
              "      <td>16</td>\n",
              "      <td>Married-civ-spouse</td>\n",
              "      <td>Exec-managerial</td>\n",
              "      <td>0</td>\n",
              "      <td>0</td>\n",
              "      <td>40</td>\n",
              "      <td>0</td>\n",
              "    </tr>\n",
              "    <tr>\n",
              "      <th>1472</th>\n",
              "      <td>76</td>\n",
              "      <td>224680</td>\n",
              "      <td>15</td>\n",
              "      <td>Married-civ-spouse</td>\n",
              "      <td>?</td>\n",
              "      <td>0</td>\n",
              "      <td>0</td>\n",
              "      <td>20</td>\n",
              "      <td>0</td>\n",
              "    </tr>\n",
              "    <tr>\n",
              "      <th>1473</th>\n",
              "      <td>66</td>\n",
              "      <td>350498</td>\n",
              "      <td>10</td>\n",
              "      <td>Married-civ-spouse</td>\n",
              "      <td>Transport-moving</td>\n",
              "      <td>0</td>\n",
              "      <td>0</td>\n",
              "      <td>20</td>\n",
              "      <td>0</td>\n",
              "    </tr>\n",
              "    <tr>\n",
              "      <th>1474</th>\n",
              "      <td>33</td>\n",
              "      <td>262042</td>\n",
              "      <td>9</td>\n",
              "      <td>Divorced</td>\n",
              "      <td>Adm-clerical</td>\n",
              "      <td>1</td>\n",
              "      <td>0</td>\n",
              "      <td>40</td>\n",
              "      <td>0</td>\n",
              "    </tr>\n",
              "  </tbody>\n",
              "</table>\n",
              "</div>"
            ],
            "text/plain": [
              "      age  fnlwgt  education.num  ... capital.gain hours.per.week  income\n",
              "1470   62  159908             13  ...            0             38       0\n",
              "1471   72  144515             16  ...            0             40       0\n",
              "1472   76  224680             15  ...            0             20       0\n",
              "1473   66  350498             10  ...            0             20       0\n",
              "1474   33  262042              9  ...            0             40       0\n",
              "\n",
              "[5 rows x 9 columns]"
            ]
          },
          "metadata": {
            "tags": []
          },
          "execution_count": 97
        }
      ]
    },
    {
      "cell_type": "code",
      "metadata": {
        "id": "Vrd6Ib6kcToY",
        "colab": {
          "base_uri": "https://localhost:8080/"
        },
        "outputId": "8b203f97-c9ca-46a6-a21d-1f17559fbe73"
      },
      "source": [
        "# Let's see how many unique values we have in each categorical column\r\n",
        "for col in df_cat2:\r\n",
        "  print(col, ':', len(df_3[col].unique()), ' labels')"
      ],
      "execution_count": 98,
      "outputs": [
        {
          "output_type": "stream",
          "text": [
            "marital.status : 7  labels\n",
            "occupation : 15  labels\n"
          ],
          "name": "stdout"
        }
      ]
    },
    {
      "cell_type": "code",
      "metadata": {
        "colab": {
          "base_uri": "https://localhost:8080/"
        },
        "id": "zIQmLbBmgdwH",
        "outputId": "e4f7ccba-417d-4789-8c16-13e96cdfd2f4"
      },
      "source": [
        "print('Marital Status > 800:', [x for x in df_3['marital.status'].value_counts() >= 800]) # we will use the top 5 results\r\n",
        "print('Occupation > 1000:', [x for x in df_3['occupation'].value_counts() >= 1000]) # we will use the top 10 results"
      ],
      "execution_count": 99,
      "outputs": [
        {
          "output_type": "stream",
          "text": [
            "Marital Status > 800: [True, True, True, True, True, False, False]\n",
            "Occupation > 1000: [True, True, True, True, True, True, True, True, True, True, False, False, False, False, False]\n"
          ],
          "name": "stdout"
        }
      ]
    },
    {
      "cell_type": "code",
      "metadata": {
        "id": "SvXl0H_GcTlh"
      },
      "source": [
        "def OneHot(df, variable, top_x_labels):\r\n",
        "  for label in top_x_labels:\r\n",
        "    df[variable+'_'+label] = np.where(df_3[variable]==label, 1, 0)\r\n",
        "\r\n",
        "occ_top10 = [x for x in df_3['occupation'].value_counts().sort_values(ascending=False).head(10).index]\r\n",
        "marital_top5 = [x for x in df_3['marital.status'].value_counts().sort_values(ascending=False).head(5).index]"
      ],
      "execution_count": 100,
      "outputs": []
    },
    {
      "cell_type": "code",
      "metadata": {
        "id": "dULfPlltcTZ_",
        "colab": {
          "base_uri": "https://localhost:8080/",
          "height": 0
        },
        "outputId": "af20f382-26bf-46bc-801d-b2169a622e71"
      },
      "source": [
        "OneHot(df_3, 'occupation', occ_top10)\r\n",
        "OneHot(df_3, 'marital.status', marital_top5)\r\n",
        "\r\n",
        "df_3 = df_3.drop(columns=['marital.status', 'occupation'])\r\n",
        "df_3.head(5)"
      ],
      "execution_count": 101,
      "outputs": [
        {
          "output_type": "execute_result",
          "data": {
            "text/html": [
              "<div>\n",
              "<style scoped>\n",
              "    .dataframe tbody tr th:only-of-type {\n",
              "        vertical-align: middle;\n",
              "    }\n",
              "\n",
              "    .dataframe tbody tr th {\n",
              "        vertical-align: top;\n",
              "    }\n",
              "\n",
              "    .dataframe thead th {\n",
              "        text-align: right;\n",
              "    }\n",
              "</style>\n",
              "<table border=\"1\" class=\"dataframe\">\n",
              "  <thead>\n",
              "    <tr style=\"text-align: right;\">\n",
              "      <th></th>\n",
              "      <th>age</th>\n",
              "      <th>fnlwgt</th>\n",
              "      <th>education.num</th>\n",
              "      <th>sex</th>\n",
              "      <th>capital.gain</th>\n",
              "      <th>hours.per.week</th>\n",
              "      <th>income</th>\n",
              "      <th>occupation_Craft-repair</th>\n",
              "      <th>occupation_Prof-specialty</th>\n",
              "      <th>occupation_Exec-managerial</th>\n",
              "      <th>occupation_Adm-clerical</th>\n",
              "      <th>occupation_Sales</th>\n",
              "      <th>occupation_Other-service</th>\n",
              "      <th>occupation_Machine-op-inspct</th>\n",
              "      <th>occupation_?</th>\n",
              "      <th>occupation_Transport-moving</th>\n",
              "      <th>occupation_Handlers-cleaners</th>\n",
              "      <th>marital.status_Married-civ-spouse</th>\n",
              "      <th>marital.status_Never-married</th>\n",
              "      <th>marital.status_Divorced</th>\n",
              "      <th>marital.status_Separated</th>\n",
              "      <th>marital.status_Widowed</th>\n",
              "    </tr>\n",
              "  </thead>\n",
              "  <tbody>\n",
              "    <tr>\n",
              "      <th>1470</th>\n",
              "      <td>62</td>\n",
              "      <td>159908</td>\n",
              "      <td>13</td>\n",
              "      <td>1</td>\n",
              "      <td>0</td>\n",
              "      <td>38</td>\n",
              "      <td>0</td>\n",
              "      <td>0</td>\n",
              "      <td>0</td>\n",
              "      <td>0</td>\n",
              "      <td>1</td>\n",
              "      <td>0</td>\n",
              "      <td>0</td>\n",
              "      <td>0</td>\n",
              "      <td>0</td>\n",
              "      <td>0</td>\n",
              "      <td>0</td>\n",
              "      <td>1</td>\n",
              "      <td>0</td>\n",
              "      <td>0</td>\n",
              "      <td>0</td>\n",
              "      <td>0</td>\n",
              "    </tr>\n",
              "    <tr>\n",
              "      <th>1471</th>\n",
              "      <td>72</td>\n",
              "      <td>144515</td>\n",
              "      <td>16</td>\n",
              "      <td>0</td>\n",
              "      <td>0</td>\n",
              "      <td>40</td>\n",
              "      <td>0</td>\n",
              "      <td>0</td>\n",
              "      <td>0</td>\n",
              "      <td>1</td>\n",
              "      <td>0</td>\n",
              "      <td>0</td>\n",
              "      <td>0</td>\n",
              "      <td>0</td>\n",
              "      <td>0</td>\n",
              "      <td>0</td>\n",
              "      <td>0</td>\n",
              "      <td>1</td>\n",
              "      <td>0</td>\n",
              "      <td>0</td>\n",
              "      <td>0</td>\n",
              "      <td>0</td>\n",
              "    </tr>\n",
              "    <tr>\n",
              "      <th>1472</th>\n",
              "      <td>76</td>\n",
              "      <td>224680</td>\n",
              "      <td>15</td>\n",
              "      <td>0</td>\n",
              "      <td>0</td>\n",
              "      <td>20</td>\n",
              "      <td>0</td>\n",
              "      <td>0</td>\n",
              "      <td>0</td>\n",
              "      <td>0</td>\n",
              "      <td>0</td>\n",
              "      <td>0</td>\n",
              "      <td>0</td>\n",
              "      <td>0</td>\n",
              "      <td>1</td>\n",
              "      <td>0</td>\n",
              "      <td>0</td>\n",
              "      <td>1</td>\n",
              "      <td>0</td>\n",
              "      <td>0</td>\n",
              "      <td>0</td>\n",
              "      <td>0</td>\n",
              "    </tr>\n",
              "    <tr>\n",
              "      <th>1473</th>\n",
              "      <td>66</td>\n",
              "      <td>350498</td>\n",
              "      <td>10</td>\n",
              "      <td>0</td>\n",
              "      <td>0</td>\n",
              "      <td>20</td>\n",
              "      <td>0</td>\n",
              "      <td>0</td>\n",
              "      <td>0</td>\n",
              "      <td>0</td>\n",
              "      <td>0</td>\n",
              "      <td>0</td>\n",
              "      <td>0</td>\n",
              "      <td>0</td>\n",
              "      <td>0</td>\n",
              "      <td>1</td>\n",
              "      <td>0</td>\n",
              "      <td>1</td>\n",
              "      <td>0</td>\n",
              "      <td>0</td>\n",
              "      <td>0</td>\n",
              "      <td>0</td>\n",
              "    </tr>\n",
              "    <tr>\n",
              "      <th>1474</th>\n",
              "      <td>33</td>\n",
              "      <td>262042</td>\n",
              "      <td>9</td>\n",
              "      <td>1</td>\n",
              "      <td>0</td>\n",
              "      <td>40</td>\n",
              "      <td>0</td>\n",
              "      <td>0</td>\n",
              "      <td>0</td>\n",
              "      <td>0</td>\n",
              "      <td>1</td>\n",
              "      <td>0</td>\n",
              "      <td>0</td>\n",
              "      <td>0</td>\n",
              "      <td>0</td>\n",
              "      <td>0</td>\n",
              "      <td>0</td>\n",
              "      <td>0</td>\n",
              "      <td>0</td>\n",
              "      <td>1</td>\n",
              "      <td>0</td>\n",
              "      <td>0</td>\n",
              "    </tr>\n",
              "  </tbody>\n",
              "</table>\n",
              "</div>"
            ],
            "text/plain": [
              "      age  fnlwgt  ...  marital.status_Separated  marital.status_Widowed\n",
              "1470   62  159908  ...                         0                       0\n",
              "1471   72  144515  ...                         0                       0\n",
              "1472   76  224680  ...                         0                       0\n",
              "1473   66  350498  ...                         0                       0\n",
              "1474   33  262042  ...                         0                       0\n",
              "\n",
              "[5 rows x 22 columns]"
            ]
          },
          "metadata": {
            "tags": []
          },
          "execution_count": 101
        }
      ]
    },
    {
      "cell_type": "markdown",
      "metadata": {
        "id": "u4TqKnl8uWOn"
      },
      "source": [
        "## Data Preperation "
      ]
    },
    {
      "cell_type": "code",
      "metadata": {
        "colab": {
          "base_uri": "https://localhost:8080/",
          "height": 241
        },
        "id": "Z8wPJGP9Hs8C",
        "outputId": "e879af1c-1070-4999-c2ec-9e8e27e5f150"
      },
      "source": [
        "# Let's shuffle our data frame a bit before we split it \r\n",
        "df_3 = df_3.sample(frac=1)\r\n",
        "df_3.head()"
      ],
      "execution_count": 102,
      "outputs": [
        {
          "output_type": "execute_result",
          "data": {
            "text/html": [
              "<div>\n",
              "<style scoped>\n",
              "    .dataframe tbody tr th:only-of-type {\n",
              "        vertical-align: middle;\n",
              "    }\n",
              "\n",
              "    .dataframe tbody tr th {\n",
              "        vertical-align: top;\n",
              "    }\n",
              "\n",
              "    .dataframe thead th {\n",
              "        text-align: right;\n",
              "    }\n",
              "</style>\n",
              "<table border=\"1\" class=\"dataframe\">\n",
              "  <thead>\n",
              "    <tr style=\"text-align: right;\">\n",
              "      <th></th>\n",
              "      <th>age</th>\n",
              "      <th>fnlwgt</th>\n",
              "      <th>education.num</th>\n",
              "      <th>sex</th>\n",
              "      <th>capital.gain</th>\n",
              "      <th>hours.per.week</th>\n",
              "      <th>income</th>\n",
              "      <th>occupation_Craft-repair</th>\n",
              "      <th>occupation_Prof-specialty</th>\n",
              "      <th>occupation_Exec-managerial</th>\n",
              "      <th>occupation_Adm-clerical</th>\n",
              "      <th>occupation_Sales</th>\n",
              "      <th>occupation_Other-service</th>\n",
              "      <th>occupation_Machine-op-inspct</th>\n",
              "      <th>occupation_?</th>\n",
              "      <th>occupation_Transport-moving</th>\n",
              "      <th>occupation_Handlers-cleaners</th>\n",
              "      <th>marital.status_Married-civ-spouse</th>\n",
              "      <th>marital.status_Never-married</th>\n",
              "      <th>marital.status_Divorced</th>\n",
              "      <th>marital.status_Separated</th>\n",
              "      <th>marital.status_Widowed</th>\n",
              "    </tr>\n",
              "  </thead>\n",
              "  <tbody>\n",
              "    <tr>\n",
              "      <th>9231</th>\n",
              "      <td>20</td>\n",
              "      <td>190457</td>\n",
              "      <td>9</td>\n",
              "      <td>1</td>\n",
              "      <td>0</td>\n",
              "      <td>30</td>\n",
              "      <td>0</td>\n",
              "      <td>0</td>\n",
              "      <td>0</td>\n",
              "      <td>0</td>\n",
              "      <td>0</td>\n",
              "      <td>0</td>\n",
              "      <td>1</td>\n",
              "      <td>0</td>\n",
              "      <td>0</td>\n",
              "      <td>0</td>\n",
              "      <td>0</td>\n",
              "      <td>0</td>\n",
              "      <td>1</td>\n",
              "      <td>0</td>\n",
              "      <td>0</td>\n",
              "      <td>0</td>\n",
              "    </tr>\n",
              "    <tr>\n",
              "      <th>8775</th>\n",
              "      <td>35</td>\n",
              "      <td>253860</td>\n",
              "      <td>9</td>\n",
              "      <td>1</td>\n",
              "      <td>0</td>\n",
              "      <td>20</td>\n",
              "      <td>0</td>\n",
              "      <td>0</td>\n",
              "      <td>0</td>\n",
              "      <td>0</td>\n",
              "      <td>0</td>\n",
              "      <td>0</td>\n",
              "      <td>0</td>\n",
              "      <td>0</td>\n",
              "      <td>1</td>\n",
              "      <td>0</td>\n",
              "      <td>0</td>\n",
              "      <td>0</td>\n",
              "      <td>0</td>\n",
              "      <td>1</td>\n",
              "      <td>0</td>\n",
              "      <td>0</td>\n",
              "    </tr>\n",
              "    <tr>\n",
              "      <th>15598</th>\n",
              "      <td>33</td>\n",
              "      <td>159929</td>\n",
              "      <td>9</td>\n",
              "      <td>0</td>\n",
              "      <td>0</td>\n",
              "      <td>40</td>\n",
              "      <td>0</td>\n",
              "      <td>1</td>\n",
              "      <td>0</td>\n",
              "      <td>0</td>\n",
              "      <td>0</td>\n",
              "      <td>0</td>\n",
              "      <td>0</td>\n",
              "      <td>0</td>\n",
              "      <td>0</td>\n",
              "      <td>0</td>\n",
              "      <td>0</td>\n",
              "      <td>1</td>\n",
              "      <td>0</td>\n",
              "      <td>0</td>\n",
              "      <td>0</td>\n",
              "      <td>0</td>\n",
              "    </tr>\n",
              "    <tr>\n",
              "      <th>22932</th>\n",
              "      <td>48</td>\n",
              "      <td>355890</td>\n",
              "      <td>13</td>\n",
              "      <td>0</td>\n",
              "      <td>0</td>\n",
              "      <td>55</td>\n",
              "      <td>1</td>\n",
              "      <td>0</td>\n",
              "      <td>0</td>\n",
              "      <td>0</td>\n",
              "      <td>0</td>\n",
              "      <td>0</td>\n",
              "      <td>0</td>\n",
              "      <td>0</td>\n",
              "      <td>1</td>\n",
              "      <td>0</td>\n",
              "      <td>0</td>\n",
              "      <td>1</td>\n",
              "      <td>0</td>\n",
              "      <td>0</td>\n",
              "      <td>0</td>\n",
              "      <td>0</td>\n",
              "    </tr>\n",
              "    <tr>\n",
              "      <th>18022</th>\n",
              "      <td>23</td>\n",
              "      <td>256628</td>\n",
              "      <td>4</td>\n",
              "      <td>0</td>\n",
              "      <td>0</td>\n",
              "      <td>32</td>\n",
              "      <td>0</td>\n",
              "      <td>0</td>\n",
              "      <td>0</td>\n",
              "      <td>0</td>\n",
              "      <td>0</td>\n",
              "      <td>0</td>\n",
              "      <td>0</td>\n",
              "      <td>0</td>\n",
              "      <td>0</td>\n",
              "      <td>1</td>\n",
              "      <td>0</td>\n",
              "      <td>1</td>\n",
              "      <td>0</td>\n",
              "      <td>0</td>\n",
              "      <td>0</td>\n",
              "      <td>0</td>\n",
              "    </tr>\n",
              "  </tbody>\n",
              "</table>\n",
              "</div>"
            ],
            "text/plain": [
              "       age  fnlwgt  ...  marital.status_Separated  marital.status_Widowed\n",
              "9231    20  190457  ...                         0                       0\n",
              "8775    35  253860  ...                         0                       0\n",
              "15598   33  159929  ...                         0                       0\n",
              "22932   48  355890  ...                         0                       0\n",
              "18022   23  256628  ...                         0                       0\n",
              "\n",
              "[5 rows x 22 columns]"
            ]
          },
          "metadata": {
            "tags": []
          },
          "execution_count": 102
        }
      ]
    },
    {
      "cell_type": "code",
      "metadata": {
        "colab": {
          "base_uri": "https://localhost:8080/"
        },
        "id": "JH-9CGbEnlNi",
        "outputId": "09a549d0-c31b-4394-cfd9-c4c1ff77939f"
      },
      "source": [
        "# Let's split the data! \r\n",
        "df_3_features = df_3.drop(columns=['income']) # we can remove income because thats the value we are trying to predict\r\n",
        "df_3_target = df_3.income\r\n",
        "\r\n",
        "from sklearn.model_selection import train_test_split\r\n",
        "\r\n",
        "x_train, x_test, y_train, y_test = train_test_split(df_3_features, df_3_target, test_size=0.2, random_state=1)\r\n",
        "\r\n",
        "x_train.shape, x_test.shape, y_train.shape, y_test.shape"
      ],
      "execution_count": 103,
      "outputs": [
        {
          "output_type": "execute_result",
          "data": {
            "text/plain": [
              "((23862, 21), (5966, 21), (23862,), (5966,))"
            ]
          },
          "metadata": {
            "tags": []
          },
          "execution_count": 103
        }
      ]
    },
    {
      "cell_type": "code",
      "metadata": {
        "colab": {
          "base_uri": "https://localhost:8080/"
        },
        "id": "fss2ftbJYwAL",
        "outputId": "012343fe-b220-460b-8389-5d45cb715447"
      },
      "source": [
        "df_3.income.value_counts() # we can see that our sample is incredibly imbalanced "
      ],
      "execution_count": 104,
      "outputs": [
        {
          "output_type": "execute_result",
          "data": {
            "text/plain": [
              "0    23174\n",
              "1     6654\n",
              "Name: income, dtype: int64"
            ]
          },
          "metadata": {
            "tags": []
          },
          "execution_count": 104
        }
      ]
    },
    {
      "cell_type": "code",
      "metadata": {
        "id": "04b_ASr6Y_nK"
      },
      "source": [
        "# Let's try to fix this imbalance\r\n",
        "from sklearn.utils import resample\r\n",
        "over_50k = df_3[df_3.income == 1]\r\n",
        "under_50k = df_3[df_3.income == 0]\r\n",
        "\r\n",
        "over_50k_resampled = resample(over_50k, replace = True, n_samples=len(under_50k), random_state=33)"
      ],
      "execution_count": 105,
      "outputs": []
    },
    {
      "cell_type": "code",
      "metadata": {
        "id": "JgiFrCdKaFMQ"
      },
      "source": [
        "df3_upsampled = pd.concat([under_50k, over_50k_resampled])"
      ],
      "execution_count": 106,
      "outputs": []
    },
    {
      "cell_type": "code",
      "metadata": {
        "colab": {
          "base_uri": "https://localhost:8080/"
        },
        "id": "w29aV83qaQFt",
        "outputId": "017a2d3b-e7ee-427a-9494-06d8ebe26ea4"
      },
      "source": [
        "df3_upsampled.income.value_counts() # now we have completely balanced data"
      ],
      "execution_count": 107,
      "outputs": [
        {
          "output_type": "execute_result",
          "data": {
            "text/plain": [
              "1    23174\n",
              "0    23174\n",
              "Name: income, dtype: int64"
            ]
          },
          "metadata": {
            "tags": []
          },
          "execution_count": 107
        }
      ]
    },
    {
      "cell_type": "code",
      "metadata": {
        "id": "6LresdDHaa_m"
      },
      "source": [
        "y_train = df3_upsampled.income\r\n",
        "x_train = df3_upsampled.drop('income', axis=1)"
      ],
      "execution_count": 108,
      "outputs": []
    },
    {
      "cell_type": "code",
      "metadata": {
        "id": "m2UeLUSkRPzz",
        "colab": {
          "base_uri": "https://localhost:8080/"
        },
        "outputId": "71ae4d52-f09c-40b8-b7ed-02ebd9247192"
      },
      "source": [
        "# Just make sure our training data is proper\r\n",
        "print(x_train)\r\n",
        "print(y_train)"
      ],
      "execution_count": 109,
      "outputs": [
        {
          "output_type": "stream",
          "text": [
            "       age  fnlwgt  ...  marital.status_Separated  marital.status_Widowed\n",
            "9231    20  190457  ...                         0                       0\n",
            "8775    35  253860  ...                         0                       0\n",
            "15598   33  159929  ...                         0                       0\n",
            "18022   23  256628  ...                         0                       0\n",
            "30042   56  133819  ...                         1                       0\n",
            "...    ...     ...  ...                       ...                     ...\n",
            "27533   54  153486  ...                         0                       0\n",
            "2868    54   35557  ...                         0                       0\n",
            "16749   62   71467  ...                         0                       0\n",
            "4242    40  121772  ...                         0                       0\n",
            "12837   50  199995  ...                         0                       0\n",
            "\n",
            "[46348 rows x 21 columns]\n",
            "9231     0\n",
            "8775     0\n",
            "15598    0\n",
            "18022    0\n",
            "30042    0\n",
            "        ..\n",
            "27533    1\n",
            "2868     1\n",
            "16749    1\n",
            "4242     1\n",
            "12837    1\n",
            "Name: income, Length: 46348, dtype: int64\n"
          ],
          "name": "stdout"
        }
      ]
    },
    {
      "cell_type": "markdown",
      "metadata": {
        "id": "72-afERQll8F"
      },
      "source": [
        "## Apply Classifcation Models"
      ]
    },
    {
      "cell_type": "markdown",
      "metadata": {
        "id": "0ludw1nynRWB"
      },
      "source": [
        "We'll implement KNN, Naive Bayes, Random Forest, and Logistic Regression"
      ]
    },
    {
      "cell_type": "code",
      "metadata": {
        "id": "IviSPaozzdqG"
      },
      "source": [
        "from sklearn.pipeline import make_pipeline\r\n",
        "from sklearn.preprocessing import StandardScaler\r\n",
        "from sklearn.model_selection import KFold\r\n",
        "from sklearn.model_selection import cross_val_score"
      ],
      "execution_count": 110,
      "outputs": []
    },
    {
      "cell_type": "code",
      "metadata": {
        "id": "HVVERN2EsBWG"
      },
      "source": [
        "k_fold = KFold(n_splits=15, random_state=10, shuffle=True)"
      ],
      "execution_count": 111,
      "outputs": []
    },
    {
      "cell_type": "markdown",
      "metadata": {
        "id": "4Pyq0dvkJ-j6"
      },
      "source": [
        "### Naive Bayes"
      ]
    },
    {
      "cell_type": "code",
      "metadata": {
        "id": "wfst5LWoJCzW",
        "colab": {
          "base_uri": "https://localhost:8080/"
        },
        "outputId": "5111fb73-4f5a-49ca-c66f-e4958882dfbe"
      },
      "source": [
        "from sklearn.naive_bayes import GaussianNB\r\n",
        "\r\n",
        "clf_gnb = make_pipeline(StandardScaler(), GaussianNB())\r\n",
        "\r\n",
        "gnb_cross_val = cross_val_score(clf_gnb, x_train, y_train, cv=k_fold, scoring='accuracy')\r\n",
        "print('GNB Cross Val Score',gnb_cross_val)\r\n",
        "print('')\r\n",
        "print('Naive Bayes Cross Val Mean', gnb_cross_val.mean())"
      ],
      "execution_count": 112,
      "outputs": [
        {
          "output_type": "stream",
          "text": [
            "GNB Cross Val Score [0.77928803 0.78608414 0.78996764 0.77572816 0.77249191 0.79288026\n",
            " 0.78252427 0.79482201 0.78867314 0.7815534  0.79255663 0.77443366\n",
            " 0.78576052 0.78957591 0.80252509]\n",
            "\n",
            "Naive Bayes Cross Val Mean 0.7859243171737555\n"
          ],
          "name": "stdout"
        }
      ]
    },
    {
      "cell_type": "markdown",
      "metadata": {
        "id": "5pMDLEkZ1jul"
      },
      "source": [
        "### K_Nearest_Neighbors"
      ]
    },
    {
      "cell_type": "code",
      "metadata": {
        "colab": {
          "base_uri": "https://localhost:8080/"
        },
        "id": "LVwAGEXHlsEq",
        "outputId": "b68adb73-3ac2-4a6c-8e9a-01f15f3d65d5"
      },
      "source": [
        "from sklearn.neighbors import KNeighborsClassifier\r\n",
        "\r\n",
        "clf_knn = make_pipeline(KNeighborsClassifier(n_neighbors=50, weights='uniform'))\r\n",
        "\r\n",
        "knn_cross_val = cross_val_score(clf_knn, x_train, y_train, cv=k_fold, scoring='accuracy')\r\n",
        "\r\n",
        "print('KNN Cross Val Score',knn_cross_val)\r\n",
        "print('')\r\n",
        "print('KNN Cross Val Mean', knn_cross_val.mean())"
      ],
      "execution_count": 113,
      "outputs": [
        {
          "output_type": "stream",
          "text": [
            "KNN Cross Val Score [0.62912621 0.62135922 0.63139159 0.62330097 0.62880259 0.63042071\n",
            " 0.63398058 0.62135922 0.62750809 0.62783172 0.6210356  0.61423948\n",
            " 0.62718447 0.61379087 0.60893493]\n",
            "\n",
            "KNN Cross Val Mean 0.6240177502869736\n"
          ],
          "name": "stdout"
        }
      ]
    },
    {
      "cell_type": "markdown",
      "metadata": {
        "id": "363-AdxGHtm4"
      },
      "source": [
        "### Logistic Regression"
      ]
    },
    {
      "cell_type": "code",
      "metadata": {
        "colab": {
          "base_uri": "https://localhost:8080/"
        },
        "id": "BBcEt8ljlsCc",
        "outputId": "86346f87-b858-4a4f-a1fa-4b6aa2c02c99"
      },
      "source": [
        "from sklearn.linear_model import LogisticRegression\r\n",
        "\r\n",
        "clf_lr = make_pipeline( StandardScaler(), LogisticRegression())\r\n",
        "clf_lr.fit(x_train, y_train)\r\n",
        "\r\n",
        "lr_cross_val = cross_val_score(clf_lr, x_train, y_train, cv=k_fold, scoring='accuracy')\r\n",
        "print('Logisitic Regression Cross Val Score',lr_cross_val)\r\n",
        "print('')\r\n",
        "print('Logistic Regression Cross Val Mean', lr_cross_val.mean())"
      ],
      "execution_count": 114,
      "outputs": [
        {
          "output_type": "stream",
          "text": [
            "Logisitic Regression Cross Val Score [0.80711974 0.81747573 0.82621359 0.80970874 0.8171521  0.81909385\n",
            " 0.81294498 0.8197411  0.82038835 0.80938511 0.81585761 0.80097087\n",
            " 0.80906149 0.81709291 0.831337  ]\n",
            "\n",
            "Logistic Regression Cross Val Mean 0.8155695454134324\n"
          ],
          "name": "stdout"
        }
      ]
    },
    {
      "cell_type": "markdown",
      "metadata": {
        "id": "pmjWicEjISsF"
      },
      "source": [
        "### Random Forest"
      ]
    },
    {
      "cell_type": "code",
      "metadata": {
        "colab": {
          "base_uri": "https://localhost:8080/"
        },
        "id": "OzXLBnxjlr_1",
        "outputId": "5d6f9569-b771-49a5-f327-097c0a55af5c"
      },
      "source": [
        "from sklearn.ensemble import RandomForestClassifier\r\n",
        "\r\n",
        "clf_rf = RandomForestClassifier(n_estimators=50, max_features=3)\r\n",
        "\r\n",
        "rf_cross_val = cross_val_score(clf_rf, x_train, y_train, cv=k_fold, scoring='accuracy')\r\n",
        "print('Random Forest Cross Val Score',rf_cross_val)\r\n",
        "print('')\r\n",
        "print('Random Forest Cross Val Mean', rf_cross_val.mean())"
      ],
      "execution_count": 115,
      "outputs": [
        {
          "output_type": "stream",
          "text": [
            "Random Forest Cross Val Score [0.93430421 0.93721683 0.93915858 0.9394822  0.94530744 0.93721683\n",
            " 0.93786408 0.93754045 0.9433657  0.93754045 0.93527508 0.92912621\n",
            " 0.93495146 0.94205244 0.94626093]\n",
            "\n",
            "Random Forest Cross Val Mean 0.9384441923057179\n"
          ],
          "name": "stdout"
        }
      ]
    },
    {
      "cell_type": "markdown",
      "metadata": {
        "id": "nfD8HqGaoeHE"
      },
      "source": [
        "We can see that our random forest model is by far the most accurate our of the ones we have tested, so we will fit and evaluate that model. "
      ]
    },
    {
      "cell_type": "markdown",
      "metadata": {
        "id": "MNsQ4-rNveph"
      },
      "source": [
        "## Evaluate Models"
      ]
    },
    {
      "cell_type": "code",
      "metadata": {
        "id": "3X0ACHJ_cnYp"
      },
      "source": [
        "from sklearn.metrics import f1_score, accuracy_score, confusion_matrix"
      ],
      "execution_count": 116,
      "outputs": []
    },
    {
      "cell_type": "code",
      "metadata": {
        "colab": {
          "base_uri": "https://localhost:8080/",
          "height": 350
        },
        "id": "CX4BYWxfatYJ",
        "outputId": "9b7c60ce-468b-4a96-8383-b93f6da8dcde"
      },
      "source": [
        "# Let's fit our random forest model\r\n",
        "clf_rf.fit(x_train, y_train)\r\n",
        "\r\n",
        "print('Random Forest F1 Score', f1_score(y_test, clf_rf.predict(x_test), average='binary')) # Let's look at the f1 score\r\n",
        "print('')\r\n",
        "print('Random Forest Accuracy', accuracy_score(y_test, clf_rf.predict(x_test), normalize=True)) # The accuracy of our model\r\n",
        "print('')\r\n",
        "\r\n",
        "# Prepare our confusion matrix\r\n",
        "y_pred = clf_rf.predict(x_test)\r\n",
        "rf_cf_matrix = confusion_matrix(y_pred, y_test)\r\n",
        "\r\n",
        "sns.heatmap(rf_cf_matrix/np.sum(rf_cf_matrix), annot=True, fmt='.2%', cmap='Greens') # make the matrix more aesthetically pleasing "
      ],
      "execution_count": 117,
      "outputs": [
        {
          "output_type": "stream",
          "text": [
            "Random Forest F1 Score 0.9932075471698113\n",
            "\n",
            "Random Forest Accuracy 0.9969829031176668\n",
            "\n"
          ],
          "name": "stdout"
        },
        {
          "output_type": "execute_result",
          "data": {
            "text/plain": [
              "<matplotlib.axes._subplots.AxesSubplot at 0x7f407e174da0>"
            ]
          },
          "metadata": {
            "tags": []
          },
          "execution_count": 117
        },
        {
          "output_type": "display_data",
          "data": {
            "image/png": "[encoded data removed]",
            "text/plain": [
              "<Figure size 432x288 with 2 Axes>"
            ]
          },
          "metadata": {
            "tags": [],
            "needs_background": "light"
          }
        }
      ]
    },
    {
      "cell_type": "markdown",
      "metadata": {
        "id": "xSWm9OOBb1K6"
      },
      "source": [
        "## Acknowledgements:\r\n",
        "\r\n",
        "https://towardsdatascience.com/ways-to-detect-and-remove-the-outliers-404d16608dba\r\n",
        "\r\n",
        "https://www.analyticsvidhya.com/blog/2020/03/one-hot-encoding-vs-label-encoding-using-scikit-learn/\r\n",
        "\r\n",
        "https://towardsdatascience.com/feature-selection-techniques-in-machine-learning-with-python-f24e7da3f36e\r\n",
        "\r\n",
        "https://stackoverflow.com/questions/47790854/how-to-perform-onehotencoding-in-sklearn-getting-value-error\r\n",
        "\r\n",
        "https://towardsdatascience.com/what-is-the-c4-5-algorithm-and-how-does-it-work-2b971a9e7db0\r\n",
        "\r\n",
        "https://www.youtube.com/watch?v=6WDFfaYtN6s"
      ]
    }
  ]
}